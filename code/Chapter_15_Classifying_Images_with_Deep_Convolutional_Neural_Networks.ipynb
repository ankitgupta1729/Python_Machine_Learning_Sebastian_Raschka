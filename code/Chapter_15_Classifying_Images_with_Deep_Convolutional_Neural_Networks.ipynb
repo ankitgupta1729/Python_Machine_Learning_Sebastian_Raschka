{
 "cells": [
  {
   "cell_type": "code",
   "execution_count": 1,
   "id": "c9368c39",
   "metadata": {},
   "outputs": [],
   "source": [
    "import numpy as np\n",
    "def conv1d(x, w, p=0, s=1):\n",
    "    w_rot = np.array(w[::-1])\n",
    "    x_padded = np.array(x)\n",
    "    if p > 0:\n",
    "        zero_pad = np.zeros(shape=p)\n",
    "        x_padded = np.concatenate([zero_pad,x_padded,zero_pad])\n",
    "    res = []\n",
    "    for i in range(0, int(len(x)/s),s):\n",
    "        res.append(np.sum(x_padded[i:i+w_rot.shape[0]] *w_rot))\n",
    "    return np.array(res)"
   ]
  },
  {
   "cell_type": "code",
   "execution_count": 2,
   "id": "060e10b2",
   "metadata": {},
   "outputs": [],
   "source": [
    "## Testing:\n",
    "x = [1, 3, 2, 4, 5, 6, 1, 3]\n",
    "w = [1, 0, 3, 1, 2]"
   ]
  },
  {
   "cell_type": "code",
   "execution_count": 3,
   "id": "19540af3",
   "metadata": {},
   "outputs": [
    {
     "name": "stdout",
     "output_type": "stream",
     "text": [
      "Conv1d Implementation: [ 5. 14. 16. 26. 24. 34. 19. 22.]\n",
      "Numpy Results: [ 5 14 16 26 24 34 19 22]\n"
     ]
    }
   ],
   "source": [
    "print('Conv1d Implementation:',conv1d(x, w, p=2, s=1))\n",
    "print('Numpy Results:',np.convolve(x, w, mode='same'))"
   ]
  },
  {
   "cell_type": "code",
   "execution_count": 4,
   "id": "62f12774",
   "metadata": {},
   "outputs": [],
   "source": [
    "import numpy as np\n",
    "import scipy.signal\n",
    "def conv2d(X, W, p=(0, 0), s=(1, 1)):\n",
    "    W_rot = np.array(W)[::-1,::-1]\n",
    "    X_orig = np.array(X)\n",
    "    n1 = X_orig.shape[0] + 2*p[0]\n",
    "    n2 = X_orig.shape[1] + 2*p[1]\n",
    "    X_padded = np.zeros(shape=(n1, n2))\n",
    "    X_padded[p[0]:p[0]+X_orig.shape[0],p[1]:p[1]+X_orig.shape[1]] = X_orig\n",
    "    res = []\n",
    "    for i in range(0, int((X_padded.shape[0] - W_rot.shape[0])/s[0])+1, s[0]):\n",
    "        res.append([])\n",
    "        for j in range(0, int((X_padded.shape[1] - W_rot.shape[1])/s[1])+1, s[1]):\n",
    "            X_sub = X_padded[i:i+W_rot.shape[0],j:j+W_rot.shape[1]]\n",
    "            res[-1].append(np.sum(X_sub * W_rot))\n",
    "    return(np.array(res))"
   ]
  },
  {
   "cell_type": "code",
   "execution_count": 5,
   "id": "6f2fc490",
   "metadata": {},
   "outputs": [],
   "source": [
    "X = [[1, 3, 2, 4], [5, 6, 1, 3], [1, 2, 0, 2], [3, 4, 3, 2]]\n",
    "W = [[1, 0, 3], [1, 2, 1], [0, 1, 1]]"
   ]
  },
  {
   "cell_type": "code",
   "execution_count": 6,
   "id": "180f06ff",
   "metadata": {},
   "outputs": [
    {
     "name": "stdout",
     "output_type": "stream",
     "text": [
      "Conv2d Implementation:\n",
      " [[11. 25. 32. 13.]\n",
      " [19. 25. 24. 13.]\n",
      " [13. 28. 25. 17.]\n",
      " [11. 17. 14.  9.]]\n"
     ]
    }
   ],
   "source": [
    "print('Conv2d Implementation:\\n',conv2d(X, W, p=(1, 1), s=(1, 1)))"
   ]
  },
  {
   "cell_type": "code",
   "execution_count": 7,
   "id": "c95e540e",
   "metadata": {},
   "outputs": [
    {
     "name": "stdout",
     "output_type": "stream",
     "text": [
      "SciPy Results:\n",
      " [[11 25 32 13]\n",
      " [19 25 24 13]\n",
      " [13 28 25 17]\n",
      " [11 17 14  9]]\n"
     ]
    }
   ],
   "source": [
    "print('SciPy Results:\\n',scipy.signal.convolve2d(X, W, mode='same'))"
   ]
  },
  {
   "cell_type": "code",
   "execution_count": 8,
   "id": "3829c71c",
   "metadata": {},
   "outputs": [],
   "source": [
    "# ! pip install scipy==1.1.0 --user"
   ]
  },
  {
   "cell_type": "code",
   "execution_count": 9,
   "id": "82a936f8",
   "metadata": {},
   "outputs": [
    {
     "name": "stdout",
     "output_type": "stream",
     "text": [
      "Image shape: (252, 221, 3)\n",
      "Number of channels: 3\n",
      "Image data type: uint8\n",
      "[[[179 134 110]\n",
      "  [182 136 112]]\n",
      "\n",
      " [[180 135 111]\n",
      "  [182 137 113]]]\n"
     ]
    },
    {
     "name": "stderr",
     "output_type": "stream",
     "text": [
      "C:\\Users\\ankit19.gupta\\OneDrive - Reliance Corporate IT Park Limited\\Desktop\\Self_Projects\\Python_Machine_Learning_Sebastian_Raschka\\myenv\\lib\\site-packages\\ipykernel_launcher.py:4: DeprecationWarning:     `imread` is deprecated!\n",
      "    `imread` is deprecated in SciPy 1.0.0, and will be removed in 1.2.0.\n",
      "    Use ``imageio.imread`` instead.\n",
      "  after removing the cwd from sys.path.\n"
     ]
    }
   ],
   "source": [
    "import scipy.misc\n",
    "import imageio\n",
    "#img = imageio.imread('./example-image.png',pilemode='RGB')\n",
    "img = scipy.misc.imread('./example-image.png',mode='RGB')\n",
    "print('Image shape:', img.shape)\n",
    "print('Number of channels:', img.shape[2])\n",
    "print('Image data type:', img.dtype)\n",
    "print(img[100:102, 100:102, :])"
   ]
  },
  {
   "cell_type": "code",
   "execution_count": 11,
   "id": "1e5116d8",
   "metadata": {},
   "outputs": [],
   "source": [
    "import os\n",
    "import struct\n",
    "import numpy as np\n",
    "def load_mnist(path, kind='train'):\n",
    "    \"\"\"Load MNIST data from `path`\"\"\"\n",
    "    labels_path = os.path.join(path,'%s-labels.idx1-ubyte' % kind)\n",
    "    images_path = os.path.join(path,'%s-images.idx3-ubyte' % kind)\n",
    "    with open(labels_path, 'rb') as lbpath:\n",
    "        magic, n = struct.unpack('>II',lbpath.read(8))\n",
    "        labels = np.fromfile(lbpath,dtype=np.uint8)\n",
    "    with open(images_path, 'rb') as imgpath:\n",
    "        magic, num, rows, cols = struct.unpack(\">IIII\",imgpath.read(16))\n",
    "        images = np.fromfile(imgpath,dtype=np.uint8).reshape(len(labels), 784)\n",
    "        images = ((images / 255.) - .5) * 2\n",
    "    return images, labels"
   ]
  },
  {
   "cell_type": "code",
   "execution_count": 12,
   "id": "a208234e",
   "metadata": {},
   "outputs": [
    {
     "name": "stdout",
     "output_type": "stream",
     "text": [
      "Rows: 60000, Columns: 784\n",
      "Rows: 10000, Columns: 784\n",
      "Training:  (50000, 784) (50000,)\n",
      "Validation:  (10000, 784) (10000,)\n",
      "Test Set:  (10000, 784) (10000,)\n"
     ]
    }
   ],
   "source": [
    " #### Loading the data\n",
    "X_data, y_data = load_mnist('./mnist/', kind='train')\n",
    "print('Rows: {}, Columns: {}'.format(X_data.shape[0], X_data.shape[1]))\n",
    "X_test, y_test = load_mnist('./mnist/', kind='t10k')\n",
    "print('Rows: {}, Columns: {}'.format(X_test.shape[0], X_test.shape[1]))\n",
    "X_train, y_train = X_data[:50000,:], y_data[:50000]\n",
    "X_valid, y_valid = X_data[50000:,:], y_data[50000:]\n",
    "print('Training: ', X_train.shape, y_train.shape)\n",
    "print('Validation: ', X_valid.shape, y_valid.shape)\n",
    "print('Test Set: ', X_test.shape, y_test.shape)"
   ]
  },
  {
   "cell_type": "code",
   "execution_count": 13,
   "id": "f0c50da8",
   "metadata": {},
   "outputs": [],
   "source": [
    "def batch_generator(X, y, batch_size=64,shuffle=False, random_seed=None):\n",
    "    idx = np.arange(y.shape[0])\n",
    "    if shuffle:\n",
    "        rng = np.random.RandomState(random_seed)\n",
    "        rng.shuffle(idx)\n",
    "        X = X[idx]\n",
    "        y = y[idx]\n",
    "    for i in range(0, X.shape[0], batch_size):\n",
    "        yield (X[i:i+batch_size, :], y[i:i+batch_size])"
   ]
  },
  {
   "cell_type": "code",
   "execution_count": 14,
   "id": "fb03c910",
   "metadata": {},
   "outputs": [],
   "source": [
    "mean_vals = np.mean(X_train, axis=0)\n",
    "std_val = np.std(X_train)\n",
    "X_train_centered = (X_train - mean_vals)/std_val\n",
    "X_valid_centered = (X_valid - mean_vals)/std_val\n",
    "X_test_centered = (X_test - mean_vals)/std_val"
   ]
  },
  {
   "cell_type": "code",
   "execution_count": 15,
   "id": "55b04c92",
   "metadata": {},
   "outputs": [
    {
     "name": "stderr",
     "output_type": "stream",
     "text": [
      "C:\\Users\\ankit19.gupta\\OneDrive - Reliance Corporate IT Park Limited\\Desktop\\Self_Projects\\Python_Machine_Learning_Sebastian_Raschka\\myenv\\lib\\site-packages\\tensorflow\\python\\framework\\dtypes.py:458: FutureWarning: Passing (type, 1) or '1type' as a synonym of type is deprecated; in a future version of numpy, it will be understood as (type, (1,)) / '(1,)type'.\n",
      "  _np_qint8 = np.dtype([(\"qint8\", np.int8, 1)])\n",
      "C:\\Users\\ankit19.gupta\\OneDrive - Reliance Corporate IT Park Limited\\Desktop\\Self_Projects\\Python_Machine_Learning_Sebastian_Raschka\\myenv\\lib\\site-packages\\tensorflow\\python\\framework\\dtypes.py:459: FutureWarning: Passing (type, 1) or '1type' as a synonym of type is deprecated; in a future version of numpy, it will be understood as (type, (1,)) / '(1,)type'.\n",
      "  _np_quint8 = np.dtype([(\"quint8\", np.uint8, 1)])\n",
      "C:\\Users\\ankit19.gupta\\OneDrive - Reliance Corporate IT Park Limited\\Desktop\\Self_Projects\\Python_Machine_Learning_Sebastian_Raschka\\myenv\\lib\\site-packages\\tensorflow\\python\\framework\\dtypes.py:460: FutureWarning: Passing (type, 1) or '1type' as a synonym of type is deprecated; in a future version of numpy, it will be understood as (type, (1,)) / '(1,)type'.\n",
      "  _np_qint16 = np.dtype([(\"qint16\", np.int16, 1)])\n",
      "C:\\Users\\ankit19.gupta\\OneDrive - Reliance Corporate IT Park Limited\\Desktop\\Self_Projects\\Python_Machine_Learning_Sebastian_Raschka\\myenv\\lib\\site-packages\\tensorflow\\python\\framework\\dtypes.py:461: FutureWarning: Passing (type, 1) or '1type' as a synonym of type is deprecated; in a future version of numpy, it will be understood as (type, (1,)) / '(1,)type'.\n",
      "  _np_quint16 = np.dtype([(\"quint16\", np.uint16, 1)])\n",
      "C:\\Users\\ankit19.gupta\\OneDrive - Reliance Corporate IT Park Limited\\Desktop\\Self_Projects\\Python_Machine_Learning_Sebastian_Raschka\\myenv\\lib\\site-packages\\tensorflow\\python\\framework\\dtypes.py:462: FutureWarning: Passing (type, 1) or '1type' as a synonym of type is deprecated; in a future version of numpy, it will be understood as (type, (1,)) / '(1,)type'.\n",
      "  _np_qint32 = np.dtype([(\"qint32\", np.int32, 1)])\n",
      "C:\\Users\\ankit19.gupta\\OneDrive - Reliance Corporate IT Park Limited\\Desktop\\Self_Projects\\Python_Machine_Learning_Sebastian_Raschka\\myenv\\lib\\site-packages\\tensorflow\\python\\framework\\dtypes.py:465: FutureWarning: Passing (type, 1) or '1type' as a synonym of type is deprecated; in a future version of numpy, it will be understood as (type, (1,)) / '(1,)type'.\n",
      "  np_resource = np.dtype([(\"resource\", np.ubyte, 1)])\n"
     ]
    }
   ],
   "source": [
    "import tensorflow as tf\n",
    "import numpy as np\n",
    "def conv_layer(input_tensor, name,kernel_size, n_output_channels,padding_mode='SAME', strides=(1, 1, 1, 1)):\n",
    "    with tf.variable_scope(name):\n",
    "        ## get n_input_channels:\n",
    "        ## input tensor shape:\n",
    "        ## [batch x width x height x channels_in]\n",
    "        input_shape = input_tensor.get_shape().as_list()\n",
    "        n_input_channels = input_shape[-1]\n",
    "        weights_shape = list(kernel_size) + [n_input_channels, n_output_channels]\n",
    "        weights = tf.get_variable(name='_weights',shape=weights_shape)\n",
    "        print(weights)\n",
    "        biases = tf.get_variable(name='_biases',initializer=tf.zeros(shape=[n_output_channels]))\n",
    "        print(biases)\n",
    "        conv = tf.nn.conv2d(input=input_tensor,filter=weights,strides=strides,padding=padding_mode)\n",
    "        print(conv)\n",
    "        conv = tf.nn.bias_add(conv, biases,name='net_pre-activation')\n",
    "        print(conv)\n",
    "        conv = tf.nn.relu(conv, name='activation')\n",
    "        print(conv)\n",
    "\n",
    "        return conv"
   ]
  },
  {
   "cell_type": "code",
   "execution_count": 16,
   "id": "e097d564",
   "metadata": {},
   "outputs": [
    {
     "name": "stdout",
     "output_type": "stream",
     "text": [
      "<tf.Variable 'convtest/_weights:0' shape=(3, 3, 1, 32) dtype=float32_ref>\n",
      "<tf.Variable 'convtest/_biases:0' shape=(32,) dtype=float32_ref>\n",
      "Tensor(\"convtest/Conv2D:0\", shape=(?, 28, 28, 32), dtype=float32)\n",
      "Tensor(\"convtest/net_pre-activation:0\", shape=(?, 28, 28, 32), dtype=float32)\n",
      "Tensor(\"convtest/activation:0\", shape=(?, 28, 28, 32), dtype=float32)\n"
     ]
    }
   ],
   "source": [
    "g = tf.Graph()\n",
    "with g.as_default():\n",
    "    x = tf.placeholder(tf.float32, shape=[None, 28, 28, 1])\n",
    "    conv_layer(x, name='convtest',kernel_size=(3, 3),n_output_channels=32)\n",
    "del g, x"
   ]
  },
  {
   "cell_type": "code",
   "execution_count": 17,
   "id": "aab17106",
   "metadata": {},
   "outputs": [],
   "source": [
    "def fc_layer(input_tensor, name,n_output_units, activation_fn=None):\n",
    "    with tf.variable_scope(name):\n",
    "        input_shape = input_tensor.get_shape().as_list()[1:]\n",
    "        n_input_units = np.prod(input_shape)\n",
    "        if len(input_shape) > 1:\n",
    "            input_tensor = tf.reshape(input_tensor,shape=(-1, n_input_units))\n",
    "        weights_shape = [n_input_units, n_output_units]\n",
    "        weights = tf.get_variable(name='_weights',shape=weights_shape)\n",
    "        print(weights)\n",
    "        biases = tf.get_variable(name='_biases',initializer=tf.zeros(shape=[n_output_units]))\n",
    "        print(biases)\n",
    "        layer = tf.matmul(input_tensor, weights)\n",
    "        print(layer)\n",
    "        layer = tf.nn.bias_add(layer, biases,name='net_pre-activaiton')\n",
    "        print(layer)\n",
    "        if activation_fn is None:\n",
    "            return layer\n",
    "\n",
    "        layer = activation_fn(layer, name='activation')\n",
    "        print(layer)\n",
    "        return layer"
   ]
  },
  {
   "cell_type": "code",
   "execution_count": 18,
   "id": "1e8e5b3f",
   "metadata": {},
   "outputs": [
    {
     "name": "stdout",
     "output_type": "stream",
     "text": [
      "<tf.Variable 'fctest/_weights:0' shape=(784, 32) dtype=float32_ref>\n",
      "<tf.Variable 'fctest/_biases:0' shape=(32,) dtype=float32_ref>\n",
      "Tensor(\"fctest/MatMul:0\", shape=(?, 32), dtype=float32)\n",
      "Tensor(\"fctest/net_pre-activaiton:0\", shape=(?, 32), dtype=float32)\n",
      "Tensor(\"fctest/activation:0\", shape=(?, 32), dtype=float32)\n"
     ]
    }
   ],
   "source": [
    "g = tf.Graph()\n",
    "with g.as_default():\n",
    "    x = tf.placeholder(tf.float32,shape=[None, 28, 28, 1])\n",
    "    fc_layer(x, name='fctest', n_output_units=32,activation_fn=tf.nn.relu)\n",
    "del g, x"
   ]
  },
  {
   "cell_type": "code",
   "execution_count": 19,
   "id": "f99751bf",
   "metadata": {},
   "outputs": [],
   "source": [
    "def build_cnn():\n",
    "    ## Placeholders for X and y:\n",
    "    tf_x = tf.placeholder(tf.float32, shape=[None, 784],name='tf_x')\n",
    "    tf_y = tf.placeholder(tf.int32, shape=[None],name='tf_y')\n",
    "    # reshape x to a 4D tensor:\n",
    "    # [batchsize, width, height, 1]\n",
    "    tf_x_image = tf.reshape(tf_x, shape=[-1, 28, 28, 1],name='tf_x_reshaped')\n",
    "    ## One-hot encoding:\n",
    "    tf_y_onehot = tf.one_hot(indices=tf_y, depth=10,dtype=tf.float32,name='tf_y_onehot')\n",
    "    ## 1st layer: Conv_1\n",
    "    print('\\nBuilding 1st layer:')\n",
    "    h1 = conv_layer(tf_x_image, name='conv_1',kernel_size=(5, 5),padding_mode='VALID',n_output_channels=32)\n",
    "    ## MaxPooling\n",
    "    h1_pool = tf.nn.max_pool(h1,ksize=[1, 2, 2, 1],strides=[1, 2, 2, 1],padding='SAME')\n",
    "    ## 2n layer: Conv_2\n",
    "    print('\\nBuilding 2nd layer:')\n",
    "    h2 = conv_layer(h1_pool, name='conv_2',kernel_size=(5, 5),padding_mode='VALID',n_output_channels=64)\n",
    "    ## MaxPooling\n",
    "    h2_pool = tf.nn.max_pool(h2,ksize=[1, 2, 2, 1],strides=[1, 2, 2, 1],padding='SAME')\n",
    "    ## 3rd layer: Fully Connected\n",
    "    print('\\nBuilding 3rd layer:')\n",
    "    h3 = fc_layer(h2_pool, name='fc_3',n_output_units=1024,activation_fn=tf.nn.relu)\n",
    "    ## Dropout\n",
    "    keep_prob = tf.placeholder(tf.float32, name='fc_keep_prob')\n",
    "    h3_drop = tf.nn.dropout(h3, keep_prob=keep_prob,name='dropout_layer')\n",
    "    ## 4th layer: Fully Connected (linear activation)\n",
    "    print('\\nBuilding 4th layer:')\n",
    "    h4 = fc_layer(h3_drop, name='fc_4',n_output_units=10,activation_fn=None)\n",
    "    ## Prediction\n",
    "    predictions = {\n",
    "    'probabilities': tf.nn.softmax(h4, name='probabilities'),\n",
    "    'labels': tf.cast(tf.argmax(h4, axis=1), tf.int32,\n",
    "    name='labels')\n",
    "    }\n",
    "\n",
    "    ## Visualize the graph with TensorBoard:\n",
    "    ## Loss Function and Optimization\n",
    "    cross_entropy_loss = tf.reduce_mean(tf.nn.softmax_cross_entropy_with_logits(logits=h4, labels=tf_y_onehot),name='cross_entropy_loss')\n",
    "    ## Optimizer:\n",
    "    optimizer = tf.train.AdamOptimizer(learning_rate)\n",
    "    optimizer = optimizer.minimize(cross_entropy_loss,name='train_op')\n",
    "    ## Computing the prediction accuracy\n",
    "    correct_predictions = tf.equal(predictions['labels'],tf_y, name='correct_preds')\n",
    "    accuracy = tf.reduce_mean(tf.cast(correct_predictions, tf.float32),name='accuracy')"
   ]
  },
  {
   "cell_type": "code",
   "execution_count": 20,
   "id": "bdc34ecf",
   "metadata": {},
   "outputs": [],
   "source": [
    "def save(saver, sess, epoch, path='./model/'):\n",
    "    if not os.path.isdir(path):\n",
    "        os.makedirs(path)\n",
    "    print('Saving model in %s' % path)\n",
    "    saver.save(sess, os.path.join(path,'cnn-model.ckpt'),global_step=epoch)\n",
    "def load(saver, sess, path, epoch):\n",
    "    print('Loading model from %s' % path)\n",
    "    saver.restore(sess, os.path.join(path, 'cnn-model.ckpt-%d' % epoch))\n",
    "def train(sess, training_set, validation_set=None,initialize=True, epochs=20, shuffle=True,dropout=0.5, random_seed=None):\n",
    "    X_data = np.array(training_set[0])\n",
    "    y_data = np.array(training_set[1])\n",
    "    training_loss = []\n",
    "    ## initialize variables\n",
    "    if initialize:\n",
    "        sess.run(tf.global_variables_initializer())\n",
    "    np.random.seed(random_seed) # for shuflling in batch_generator\n",
    "    for epoch in range(1, epochs+1):\n",
    "        batch_gen = batch_generator(X_data, y_data,shuffle=shuffle)\n",
    "        avg_loss = 0.0\n",
    "        for i,(batch_x,batch_y) in enumerate(batch_gen):\n",
    "            feed = {'tf_x:0': batch_x,'tf_y:0': batch_y,'fc_keep_prob:0': dropout}\n",
    "            loss, _ = sess.run(['cross_entropy_loss:0', 'train_op'],feed_dict=feed)\n",
    "            avg_loss += loss\n",
    "        training_loss.append(avg_loss / (i+1))\n",
    "        print('Epoch %02d Training Avg. Loss: %7.3f' % (epoch, avg_loss), end=' ')\n",
    "        if validation_set is not None:\n",
    "            feed = {'tf_x:0': validation_set[0],'tf_y:0': validation_set[1],'fc_keep_prob:0': 1.0}\n",
    "            valid_acc = sess.run('accuracy:0', feed_dict=feed)\n",
    "            print(' Validation Acc: %7.3f' % valid_acc)\n",
    "        else:\n",
    "            print()\n",
    "def predict(sess, X_test, return_proba=False):\n",
    "    feed = {'tf_x:0': X_test,'fc_keep_prob:0': 1.0}\n",
    "    if return_proba:\n",
    "        return sess.run('probabilities:0', feed_dict=feed)\n",
    "    else:\n",
    "        return sess.run('labels:0', feed_dict=feed)"
   ]
  },
  {
   "cell_type": "code",
   "execution_count": 21,
   "id": "00817855",
   "metadata": {},
   "outputs": [
    {
     "name": "stdout",
     "output_type": "stream",
     "text": [
      "\n",
      "Building 1st layer:\n",
      "<tf.Variable 'conv_1/_weights:0' shape=(5, 5, 1, 32) dtype=float32_ref>\n",
      "<tf.Variable 'conv_1/_biases:0' shape=(32,) dtype=float32_ref>\n",
      "Tensor(\"conv_1/Conv2D:0\", shape=(?, 24, 24, 32), dtype=float32)\n",
      "Tensor(\"conv_1/net_pre-activation:0\", shape=(?, 24, 24, 32), dtype=float32)\n",
      "Tensor(\"conv_1/activation:0\", shape=(?, 24, 24, 32), dtype=float32)\n",
      "\n",
      "Building 2nd layer:\n",
      "<tf.Variable 'conv_2/_weights:0' shape=(5, 5, 32, 64) dtype=float32_ref>\n",
      "<tf.Variable 'conv_2/_biases:0' shape=(64,) dtype=float32_ref>\n",
      "Tensor(\"conv_2/Conv2D:0\", shape=(?, 8, 8, 64), dtype=float32)\n",
      "Tensor(\"conv_2/net_pre-activation:0\", shape=(?, 8, 8, 64), dtype=float32)\n",
      "Tensor(\"conv_2/activation:0\", shape=(?, 8, 8, 64), dtype=float32)\n",
      "\n",
      "Building 3rd layer:\n",
      "<tf.Variable 'fc_3/_weights:0' shape=(1024, 1024) dtype=float32_ref>\n",
      "<tf.Variable 'fc_3/_biases:0' shape=(1024,) dtype=float32_ref>\n",
      "Tensor(\"fc_3/MatMul:0\", shape=(?, 1024), dtype=float32)\n",
      "Tensor(\"fc_3/net_pre-activaiton:0\", shape=(?, 1024), dtype=float32)\n",
      "Tensor(\"fc_3/activation:0\", shape=(?, 1024), dtype=float32)\n",
      "\n",
      "Building 4th layer:\n",
      "<tf.Variable 'fc_4/_weights:0' shape=(1024, 10) dtype=float32_ref>\n",
      "<tf.Variable 'fc_4/_biases:0' shape=(10,) dtype=float32_ref>\n",
      "Tensor(\"fc_4/MatMul:0\", shape=(?, 10), dtype=float32)\n",
      "Tensor(\"fc_4/net_pre-activaiton:0\", shape=(?, 10), dtype=float32)\n"
     ]
    }
   ],
   "source": [
    "## Define hyperparameters\n",
    "learning_rate = 1e-4\n",
    "random_seed = 123\n",
    "## create a graph\n",
    "g = tf.Graph()\n",
    "with g.as_default():\n",
    "    tf.set_random_seed(random_seed)\n",
    "    ## build the graph\n",
    "    build_cnn()\n",
    "    ## saver:\n",
    "    saver = tf.train.Saver()"
   ]
  },
  {
   "cell_type": "code",
   "execution_count": 22,
   "id": "b82b1025",
   "metadata": {},
   "outputs": [
    {
     "name": "stdout",
     "output_type": "stream",
     "text": [
      "Epoch 01 Training Avg. Loss: 273.649  Validation Acc:   0.974\n",
      "Epoch 02 Training Avg. Loss:  76.096  Validation Acc:   0.983\n",
      "Epoch 03 Training Avg. Loss:  50.239  Validation Acc:   0.986\n",
      "Epoch 04 Training Avg. Loss:  39.219  Validation Acc:   0.986\n",
      "Epoch 05 Training Avg. Loss:  32.226  Validation Acc:   0.989\n",
      "Epoch 06 Training Avg. Loss:  27.557  Validation Acc:   0.989\n",
      "Epoch 07 Training Avg. Loss:  23.365  Validation Acc:   0.990\n",
      "Epoch 08 Training Avg. Loss:  19.373  Validation Acc:   0.990\n",
      "Epoch 09 Training Avg. Loss:  17.170  Validation Acc:   0.991\n",
      "Epoch 10 Training Avg. Loss:  14.973  Validation Acc:   0.992\n",
      "Epoch 11 Training Avg. Loss:  12.827  Validation Acc:   0.990\n",
      "Epoch 12 Training Avg. Loss:  11.740  Validation Acc:   0.992\n",
      "Epoch 13 Training Avg. Loss:  10.098  Validation Acc:   0.992\n",
      "Epoch 14 Training Avg. Loss:   8.866  Validation Acc:   0.992\n",
      "Epoch 15 Training Avg. Loss:   7.439  Validation Acc:   0.990\n",
      "Epoch 16 Training Avg. Loss:   6.786  Validation Acc:   0.990\n",
      "Epoch 17 Training Avg. Loss:   5.996  Validation Acc:   0.992\n",
      "Epoch 18 Training Avg. Loss:   6.028  Validation Acc:   0.992\n",
      "Epoch 19 Training Avg. Loss:   5.277  Validation Acc:   0.992\n",
      "Epoch 20 Training Avg. Loss:   4.744  Validation Acc:   0.991\n",
      "Saving model in ./model/\n"
     ]
    }
   ],
   "source": [
    "## create a TF session\n",
    "## and train the CNN model\n",
    "with tf.Session(graph=g) as sess:\n",
    "    train(sess,training_set=(X_train_centered, y_train),validation_set=(X_valid_centered, y_valid),initialize=True,random_seed=123)\n",
    "    save(saver, sess, epoch=20)"
   ]
  },
  {
   "cell_type": "code",
   "execution_count": 23,
   "id": "fe42812f",
   "metadata": {},
   "outputs": [
    {
     "name": "stdout",
     "output_type": "stream",
     "text": [
      "\n",
      "Building 1st layer:\n",
      "<tf.Variable 'conv_1/_weights:0' shape=(5, 5, 1, 32) dtype=float32_ref>\n",
      "<tf.Variable 'conv_1/_biases:0' shape=(32,) dtype=float32_ref>\n",
      "Tensor(\"conv_1/Conv2D:0\", shape=(?, 24, 24, 32), dtype=float32)\n",
      "Tensor(\"conv_1/net_pre-activation:0\", shape=(?, 24, 24, 32), dtype=float32)\n",
      "Tensor(\"conv_1/activation:0\", shape=(?, 24, 24, 32), dtype=float32)\n",
      "\n",
      "Building 2nd layer:\n",
      "<tf.Variable 'conv_2/_weights:0' shape=(5, 5, 32, 64) dtype=float32_ref>\n",
      "<tf.Variable 'conv_2/_biases:0' shape=(64,) dtype=float32_ref>\n",
      "Tensor(\"conv_2/Conv2D:0\", shape=(?, 8, 8, 64), dtype=float32)\n",
      "Tensor(\"conv_2/net_pre-activation:0\", shape=(?, 8, 8, 64), dtype=float32)\n",
      "Tensor(\"conv_2/activation:0\", shape=(?, 8, 8, 64), dtype=float32)\n",
      "\n",
      "Building 3rd layer:\n",
      "<tf.Variable 'fc_3/_weights:0' shape=(1024, 1024) dtype=float32_ref>\n",
      "<tf.Variable 'fc_3/_biases:0' shape=(1024,) dtype=float32_ref>\n",
      "Tensor(\"fc_3/MatMul:0\", shape=(?, 1024), dtype=float32)\n",
      "Tensor(\"fc_3/net_pre-activaiton:0\", shape=(?, 1024), dtype=float32)\n",
      "Tensor(\"fc_3/activation:0\", shape=(?, 1024), dtype=float32)\n",
      "\n",
      "Building 4th layer:\n",
      "<tf.Variable 'fc_4/_weights:0' shape=(1024, 10) dtype=float32_ref>\n",
      "<tf.Variable 'fc_4/_biases:0' shape=(10,) dtype=float32_ref>\n",
      "Tensor(\"fc_4/MatMul:0\", shape=(?, 10), dtype=float32)\n",
      "Tensor(\"fc_4/net_pre-activaiton:0\", shape=(?, 10), dtype=float32)\n",
      "Loading model from ./model/\n",
      "INFO:tensorflow:Restoring parameters from ./model/cnn-model.ckpt-20\n",
      "Test Accuracy: 99.300%\n"
     ]
    }
   ],
   "source": [
    "### Calculate prediction accuracy\n",
    "### on test set\n",
    "### restoring the saved model\n",
    "del g\n",
    "## create a new graph\n",
    "## and build the model\n",
    "g2 = tf.Graph()\n",
    "with g2.as_default():\n",
    "    tf.set_random_seed(random_seed)\n",
    "    ## build the graph\n",
    "    build_cnn()\n",
    "    ## saver:\n",
    "    saver = tf.train.Saver()\n",
    "\n",
    "## create a new session\n",
    "## and restore the model\n",
    "with tf.Session(graph=g2) as sess:\n",
    "    load(saver, sess,epoch=20, path='./model/')\n",
    "    preds = predict(sess, X_test_centered,return_proba=False)\n",
    "    print('Test Accuracy: %.3f%%' % (100*np.sum(preds == y_test)/len(y_test)))"
   ]
  },
  {
   "cell_type": "code",
   "execution_count": 24,
   "id": "bad8e61d",
   "metadata": {},
   "outputs": [
    {
     "name": "stdout",
     "output_type": "stream",
     "text": [
      "Loading model from ./model/\n",
      "INFO:tensorflow:Restoring parameters from ./model/cnn-model.ckpt-20\n",
      "[7 2 1 0 4 1 4 9 5 9]\n",
      "[[0.   0.   0.   0.   0.   0.   0.   1.   0.   0.  ]\n",
      " [0.   0.   1.   0.   0.   0.   0.   0.   0.   0.  ]\n",
      " [0.   1.   0.   0.   0.   0.   0.   0.   0.   0.  ]\n",
      " [1.   0.   0.   0.   0.   0.   0.   0.   0.   0.  ]\n",
      " [0.   0.   0.   0.   1.   0.   0.   0.   0.   0.  ]\n",
      " [0.   1.   0.   0.   0.   0.   0.   0.   0.   0.  ]\n",
      " [0.   0.   0.   0.   1.   0.   0.   0.   0.   0.  ]\n",
      " [0.   0.   0.   0.   0.   0.   0.   0.   0.   1.  ]\n",
      " [0.   0.   0.   0.   0.   0.98 0.02 0.   0.   0.  ]\n",
      " [0.   0.   0.   0.   0.   0.   0.   0.   0.   1.  ]]\n"
     ]
    }
   ],
   "source": [
    "## run the prediction on\n",
    "## some test samples\n",
    "np.set_printoptions(precision=2, suppress=True)\n",
    "with tf.Session(graph=g2) as sess:\n",
    "    load(saver, sess,epoch=20, path='./model/')\n",
    "    print(predict(sess, X_test_centered[:10],return_proba=False))\n",
    "    print(predict(sess, X_test_centered[:10],return_proba=True))"
   ]
  },
  {
   "cell_type": "code",
   "execution_count": 25,
   "id": "18691d7b",
   "metadata": {},
   "outputs": [
    {
     "name": "stdout",
     "output_type": "stream",
     "text": [
      "Loading model from ./model/\n",
      "INFO:tensorflow:Restoring parameters from ./model/cnn-model.ckpt-20\n",
      "Epoch 01 Training Avg. Loss:   4.276  Validation Acc:   0.990\n",
      "Epoch 02 Training Avg. Loss:   4.328  Validation Acc:   0.992\n",
      "Epoch 03 Training Avg. Loss:   3.701  Validation Acc:   0.992\n",
      "Epoch 04 Training Avg. Loss:   3.705  Validation Acc:   0.992\n",
      "Epoch 05 Training Avg. Loss:   3.089  Validation Acc:   0.992\n",
      "Epoch 06 Training Avg. Loss:   2.242  Validation Acc:   0.992\n",
      "Epoch 07 Training Avg. Loss:   3.105  Validation Acc:   0.992\n",
      "Epoch 08 Training Avg. Loss:   2.375  Validation Acc:   0.992\n",
      "Epoch 09 Training Avg. Loss:   2.084  Validation Acc:   0.992\n",
      "Epoch 10 Training Avg. Loss:   2.455  Validation Acc:   0.993\n",
      "Epoch 11 Training Avg. Loss:   2.579  Validation Acc:   0.993\n",
      "Epoch 12 Training Avg. Loss:   2.050  Validation Acc:   0.992\n",
      "Epoch 13 Training Avg. Loss:   2.555  Validation Acc:   0.992\n",
      "Epoch 14 Training Avg. Loss:   1.100  Validation Acc:   0.991\n",
      "Epoch 15 Training Avg. Loss:   1.336  Validation Acc:   0.992\n",
      "Epoch 16 Training Avg. Loss:   1.813  Validation Acc:   0.993\n",
      "Epoch 17 Training Avg. Loss:   1.311  Validation Acc:   0.992\n",
      "Epoch 18 Training Avg. Loss:   1.477  Validation Acc:   0.991\n",
      "Epoch 19 Training Avg. Loss:   1.855  Validation Acc:   0.992\n",
      "Epoch 20 Training Avg. Loss:   1.301  Validation Acc:   0.992\n",
      "Saving model in ./model/\n",
      "Test Accuracy: 99.350%\n"
     ]
    }
   ],
   "source": [
    "## continue training for 20 more epochs\n",
    "## without re-initializing :: initialize=False\n",
    "## create a new session\n",
    "## and restore the model\n",
    "with tf.Session(graph=g2) as sess:\n",
    "    load(saver, sess,epoch=20, path='./model/')\n",
    "    train(sess,training_set=(X_train_centered, y_train),validation_set=(X_valid_centered, y_valid),initialize=False,epochs=20,random_seed=123)\n",
    "    save(saver, sess, epoch=40, path='./model/')\n",
    "    preds = predict(sess, X_test_centered,return_proba=False)\n",
    "    print('Test Accuracy: %.3f%%' % (100*np.sum(preds == y_test)/len(y_test)))"
   ]
  },
  {
   "cell_type": "code",
   "execution_count": 26,
   "id": "e43c3e00",
   "metadata": {},
   "outputs": [],
   "source": [
    "import tensorflow as tf\n",
    "import numpy as np\n",
    "class ConvNN(object):\n",
    "    def __init__(self, batchsize=64,epochs=20, learning_rate=1e-4,dropout_rate=0.5,shuffle=True, random_seed=None):\n",
    "        np.random.seed(random_seed)\n",
    "        self.batchsize = batchsize\n",
    "        self.epochs = epochs\n",
    "        self.learning_rate = learning_rate\n",
    "        self.dropout_rate = dropout_rate\n",
    "        self.shuffle = shuffle\n",
    "        g = tf.Graph()\n",
    "        with g.as_default():\n",
    "            ## set random-seed:\n",
    "            tf.set_random_seed(random_seed)\n",
    "            ## build the network:\n",
    "            self.build()\n",
    "            ## initializer\n",
    "            self.init_op = tf.global_variables_initializer()\n",
    "            ## saver\n",
    "            self.saver = tf.train.Saver()\n",
    "\n",
    "        ## create a session\n",
    "        self.sess = tf.Session(graph=g)\n",
    "\n",
    "    def build(self):\n",
    "\n",
    "        ## Placeholders for X and y:\n",
    "        tf_x = tf.placeholder(tf.float32,shape=[None, 784],name='tf_x')\n",
    "        tf_y = tf.placeholder(tf.int32,shape=[None],name='tf_y')\n",
    "        is_train = tf.placeholder(tf.bool,shape=(),name='is_train')\n",
    "        ## reshape x to a 4D tensor:\n",
    "        ## [batchsize, width, height, 1]\n",
    "        tf_x_image = tf.reshape(tf_x, shape=[-1, 28, 28, 1],name='input_x_2dimages')\n",
    "        ## One-hot encoding:\n",
    "        tf_y_onehot = tf.one_hot(indices=tf_y, depth=10,dtype=tf.float32,name='input_y_onehot')\n",
    "        ## 1st layer: Conv_1\n",
    "        h1 = tf.layers.conv2d(tf_x_image,kernel_size=(5, 5),filters=32,activation=tf.nn.relu)\n",
    "        ## MaxPooling\n",
    "        h1_pool = tf.layers.max_pooling2d(h1,pool_size=(2, 2),strides=(2, 2))\n",
    "        ## 2n layer: Conv_2\n",
    "        h2 = tf.layers.conv2d(h1_pool, kernel_size=(5, 5),filters=64,activation=tf.nn.relu)\n",
    "        ## MaxPooling\n",
    "        h2_pool = tf.layers.max_pooling2d(h2,pool_size=(2, 2),strides=(2, 2))\n",
    "        ## 3rd layer: Fully Connected\n",
    "        input_shape = h2_pool.get_shape().as_list()\n",
    "        n_input_units = np.prod(input_shape[1:])\n",
    "        h2_pool_flat = tf.reshape(h2_pool,shape=[-1, n_input_units])\n",
    "        h3 = tf.layers.dense(h2_pool_flat, 1024,activation=tf.nn.relu)\n",
    "        ## Dropout\n",
    "        h3_drop = tf.layers.dropout(h3,rate=self.dropout_rate,training=is_train)\n",
    "        ## 4th layer: Fully Connected (linear activation)\n",
    "        h4 = tf.layers.dense(h3_drop, 10,activation=None)\n",
    "        ## Prediction\n",
    "        predictions = {\n",
    "        'probabilities': tf.nn.softmax(h4,name='probabilities'),\n",
    "        'labels': tf.cast(tf.argmax(h4, axis=1),\n",
    "        tf.int32, name='labels')\n",
    "        }\n",
    "\n",
    "        ## Loss Function and Optimization\n",
    "        cross_entropy_loss = tf.reduce_mean(tf.nn.softmax_cross_entropy_with_logits(logits=h4, labels=tf_y_onehot),name='cross_entropy_loss')\n",
    "        ## Optimizer:\n",
    "        optimizer = tf.train.AdamOptimizer(self.learning_rate)\n",
    "        optimizer = optimizer.minimize(cross_entropy_loss,name='train_op')\n",
    "        ## Finding accuracy\n",
    "        correct_predictions = tf.equal(predictions['labels'],tf_y, name='correct_preds')\n",
    "        accuracy = tf.reduce_mean(tf.cast(correct_predictions, tf.float32),name='accuracy')\n",
    "    def save(self, epoch, path='./tflayers-model/'):\n",
    "        if not os.path.isdir(path):\n",
    "            os.makedirs(path)\n",
    "        print('Saving model in %s' % path)\n",
    "        self.saver.save(self.sess,os.path.join(path, 'model.ckpt'),global_step=epoch)\n",
    "\n",
    "    def load(self, epoch, path):\n",
    "        print('Loading model from %s' % path)\n",
    "        self.saver.restore(self.sess,os.path.join(path, 'model.ckpt-%d' % epoch))\n",
    "\n",
    "    def train(self, training_set,validation_set=None,initialize=True):\n",
    "        ## initialize variables\n",
    "        if initialize:\n",
    "            self.sess.run(self.init_op)\n",
    "        self.train_cost_ = []\n",
    "        X_data = np.array(training_set[0])\n",
    "        y_data = np.array(training_set[1])\n",
    "        for epoch in range(1, self.epochs+1):\n",
    "            batch_gen = batch_generator(X_data, y_data,shuffle=self.shuffle)\n",
    "            avg_loss = 0.0\n",
    "            for i, (batch_x,batch_y) in enumerate(batch_gen):\n",
    "                feed = {'tf_x:0': batch_x,'tf_y:0': batch_y,'is_train:0': True} ## for dropout\n",
    "                loss, _ = self.sess.run(['cross_entropy_loss:0', 'train_op'],feed_dict=feed)\n",
    "                avg_loss += loss\n",
    "\n",
    "            print('Epoch %02d: Training Avg. Loss: ''%7.3f' % (epoch, avg_loss), end=' ')\n",
    "            if validation_set is not None:\n",
    "                feed = {'tf_x:0': batch_x,'tf_y:0': batch_y,'is_train:0' : False} ## for dropout\n",
    "                valid_acc = self.sess.run('accuracy:0',feed_dict=feed)\n",
    "                print('Validation Acc: %7.3f' % valid_acc)\n",
    "            else:\n",
    "                print()\n",
    "\n",
    "    def predict(self, X_test, return_proba=False):\n",
    "        feed = {'tf_x:0' : X_test,'is_train:0' : False} ## for dropout\n",
    "        if return_proba:\n",
    "            return self.sess.run('probabilities:0',feed_dict=feed)\n",
    "        else:\n",
    "            return self.sess.run('labels:0',feed_dict=feed)"
   ]
  },
  {
   "cell_type": "code",
   "execution_count": 27,
   "id": "5f4e9b90",
   "metadata": {},
   "outputs": [
    {
     "name": "stdout",
     "output_type": "stream",
     "text": [
      "Epoch 01: Training Avg. Loss: 262.236 Validation Acc:   0.938\n",
      "Epoch 02: Training Avg. Loss:  73.340 Validation Acc:   1.000\n",
      "Epoch 03: Training Avg. Loss:  50.417 Validation Acc:   1.000\n",
      "Epoch 04: Training Avg. Loss:  39.019 Validation Acc:   1.000\n",
      "Epoch 05: Training Avg. Loss:  31.782 Validation Acc:   1.000\n",
      "Epoch 06: Training Avg. Loss:  26.602 Validation Acc:   1.000\n",
      "Epoch 07: Training Avg. Loss:  22.542 Validation Acc:   1.000\n",
      "Epoch 08: Training Avg. Loss:  19.906 Validation Acc:   1.000\n",
      "Epoch 09: Training Avg. Loss:  17.299 Validation Acc:   1.000\n",
      "Epoch 10: Training Avg. Loss:  15.416 Validation Acc:   1.000\n",
      "Epoch 11: Training Avg. Loss:  12.735 Validation Acc:   1.000\n",
      "Epoch 12: Training Avg. Loss:  11.523 Validation Acc:   1.000\n",
      "Epoch 13: Training Avg. Loss:  10.074 Validation Acc:   1.000\n",
      "Epoch 14: Training Avg. Loss:   8.626 Validation Acc:   1.000\n",
      "Epoch 15: Training Avg. Loss:   8.084 Validation Acc:   1.000\n",
      "Epoch 16: Training Avg. Loss:   7.189 Validation Acc:   1.000\n",
      "Epoch 17: Training Avg. Loss:   6.973 Validation Acc:   1.000\n",
      "Epoch 18: Training Avg. Loss:   5.141 Validation Acc:   1.000\n",
      "Epoch 19: Training Avg. Loss:   5.054 Validation Acc:   1.000\n",
      "Epoch 20: Training Avg. Loss:   5.591 Validation Acc:   1.000\n",
      "Saving model in ./tflayers-model/\n"
     ]
    }
   ],
   "source": [
    "cnn = ConvNN(random_seed=123)\n",
    "## train the model\n",
    "cnn.train(training_set=(X_train_centered, y_train),validation_set=(X_valid_centered, y_valid),initialize=True)\n",
    "cnn.save(epoch=20)"
   ]
  },
  {
   "cell_type": "code",
   "execution_count": 28,
   "id": "ead3b942",
   "metadata": {},
   "outputs": [
    {
     "name": "stdout",
     "output_type": "stream",
     "text": [
      "Loading model from ./tflayers-model/\n",
      "INFO:tensorflow:Restoring parameters from ./tflayers-model/model.ckpt-20\n",
      "[7 2 1 0 4 1 4 9 5 9]\n"
     ]
    }
   ],
   "source": [
    "del cnn\n",
    "cnn2 = ConvNN(random_seed=123)\n",
    "cnn2.load(epoch=20, path='./tflayers-model/')\n",
    "print(cnn2.predict(X_test_centered[:10, :]))"
   ]
  },
  {
   "cell_type": "code",
   "execution_count": 29,
   "id": "0afb832f",
   "metadata": {},
   "outputs": [
    {
     "name": "stdout",
     "output_type": "stream",
     "text": [
      "Test Accuracy: 99.37%\n"
     ]
    }
   ],
   "source": [
    "preds = cnn2.predict(X_test_centered)\n",
    "print('Test Accuracy: %.2f%%' % (100*np.sum(y_test == preds)/len(y_test)))"
   ]
  },
  {
   "cell_type": "code",
   "execution_count": null,
   "id": "97069aba",
   "metadata": {},
   "outputs": [],
   "source": []
  }
 ],
 "metadata": {
  "kernelspec": {
   "display_name": "Python 3 (ipykernel)",
   "language": "python",
   "name": "python3"
  },
  "language_info": {
   "codemirror_mode": {
    "name": "ipython",
    "version": 3
   },
   "file_extension": ".py",
   "mimetype": "text/x-python",
   "name": "python",
   "nbconvert_exporter": "python",
   "pygments_lexer": "ipython3",
   "version": "3.9.18"
  }
 },
 "nbformat": 4,
 "nbformat_minor": 5
}
