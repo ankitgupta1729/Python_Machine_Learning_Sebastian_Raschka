{
 "cells": [
  {
   "cell_type": "markdown",
   "id": "8a1abf58",
   "metadata": {},
   "source": [
    "## TensorFlow and training performance"
   ]
  },
  {
   "cell_type": "code",
   "execution_count": 4,
   "id": "2ff568d6",
   "metadata": {},
   "outputs": [
    {
     "name": "stdout",
     "output_type": "stream",
     "text": [
      "3.6.13\n"
     ]
    }
   ],
   "source": [
    "from platform import python_version\n",
    "\n",
    "print(python_version())"
   ]
  },
  {
   "cell_type": "code",
   "execution_count": 9,
   "id": "d9562c6d",
   "metadata": {},
   "outputs": [],
   "source": [
    "# ! pip install tensorflow==1.3.0"
   ]
  },
  {
   "cell_type": "code",
   "execution_count": 10,
   "id": "4bb6f192",
   "metadata": {},
   "outputs": [],
   "source": [
    "# import tensorflow as tf;\n",
    "# print(tf.__version__)"
   ]
  },
  {
   "cell_type": "code",
   "execution_count": 8,
   "id": "5a0f8f4a",
   "metadata": {},
   "outputs": [],
   "source": [
    "# ! pip install tensorflow-gpu"
   ]
  },
  {
   "cell_type": "code",
   "execution_count": 11,
   "id": "54a6f91a",
   "metadata": {},
   "outputs": [
    {
     "name": "stdout",
     "output_type": "stream",
     "text": [
      "x= 1.0 --> z= 2.7\n",
      "x= 0.6 --> z= 1.9\n",
      "x=-1.8 --> z=-2.9\n"
     ]
    }
   ],
   "source": [
    "import tensorflow as tf\n",
    "## create a graph\n",
    "g = tf.Graph()\n",
    "with g.as_default():\n",
    "    x = tf.placeholder(dtype=tf.float32,shape=(None), name='x')\n",
    "    w = tf.Variable(2.0, name='weight')\n",
    "    b = tf.Variable(0.7, name='bias')\n",
    "    z = w*x + b\n",
    "    init = tf.global_variables_initializer()\n",
    "## create a session and pass in graph g\n",
    "with tf.Session(graph=g) as sess:\n",
    "    ## initialize w and b:\n",
    "    sess.run(init)\n",
    "    ## evaluate z:\n",
    "    for t in [1.0, 0.6, -1.8]:\n",
    "        print('x=%4.1f --> z=%4.1f'%(t, sess.run(z, feed_dict={x:t})))"
   ]
  },
  {
   "cell_type": "code",
   "execution_count": 12,
   "id": "a15a241b",
   "metadata": {},
   "outputs": [
    {
     "name": "stdout",
     "output_type": "stream",
     "text": [
      "[2.7 4.7 6.7]\n"
     ]
    }
   ],
   "source": [
    "with tf.Session(graph=g) as sess:\n",
    "    sess.run(init)\n",
    "    print(sess.run(z, feed_dict={x:[1., 2., 3.]}))"
   ]
  },
  {
   "cell_type": "code",
   "execution_count": 13,
   "id": "edaeddc2",
   "metadata": {},
   "outputs": [
    {
     "name": "stdout",
     "output_type": "stream",
     "text": [
      "input shape:  (3, 2, 3)\n",
      "Reshaped:\n",
      " [[ 0.  1.  2.  3.  4.  5.]\n",
      " [ 6.  7.  8.  9. 10. 11.]\n",
      " [12. 13. 14. 15. 16. 17.]]\n",
      "Column Sums:\n",
      " [18. 21. 24. 27. 30. 33.]\n",
      "Column Means:\n",
      " [ 6.  7.  8.  9. 10. 11.]\n"
     ]
    }
   ],
   "source": [
    "import tensorflow as tf\n",
    "import numpy as np\n",
    "g = tf.Graph()\n",
    "with g.as_default():\n",
    "    x = tf.placeholder(dtype=tf.float32,shape=(None, 2, 3),name='input_x')\n",
    "    x2 = tf.reshape(x, shape=(-1, 6),name='x2')\n",
    "    ## calculate the sum of each column\n",
    "    xsum = tf.reduce_sum(x2, axis=0, name='col_sum')\n",
    "    ## calculate the mean of each column\n",
    "    xmean = tf.reduce_mean(x2, axis=0, name='col_mean')\n",
    "with tf.Session(graph=g) as sess:\n",
    "    x_array = np.arange(18).reshape(3, 2, 3)\n",
    "    print('input shape: ', x_array.shape)\n",
    "    print('Reshaped:\\n',sess.run(x2, feed_dict={x:x_array}))\n",
    "    print('Column Sums:\\n',sess.run(xsum, feed_dict={x:x_array}))\n",
    "    print('Column Means:\\n',sess.run(xmean, feed_dict={x:x_array}))"
   ]
  },
  {
   "cell_type": "code",
   "execution_count": 14,
   "id": "71cfe83e",
   "metadata": {},
   "outputs": [],
   "source": [
    "import tensorflow as tf\n",
    "import numpy as np\n",
    "X_train = np.arange(10).reshape((10, 1))\n",
    "y_train = np.array([1.0, 1.3, 3.1,2.0, 5.0, 6.3,6.6, 7.4, 8.0,9.0])"
   ]
  },
  {
   "cell_type": "code",
   "execution_count": 15,
   "id": "39c8c9be",
   "metadata": {},
   "outputs": [],
   "source": [
    "class TfLinreg(object):\n",
    "    def __init__(self, x_dim, learning_rate=0.01,random_seed=None):\n",
    "        self.x_dim = x_dim\n",
    "        self.learning_rate = learning_rate\n",
    "        self.g = tf.Graph()\n",
    "        ## build the model\n",
    "        with self.g.as_default():\n",
    "            ## set graph-level random-seed\n",
    "            tf.set_random_seed(random_seed)\n",
    "\n",
    "            self.build()\n",
    "            ## create initializer\n",
    "            self.init_op = tf.global_variables_initializer()\n",
    "\n",
    "    def build(self):\n",
    "        ## define placeholders for inputs\n",
    "        self.X = tf.placeholder(dtype=tf.float32,shape=(None, self.x_dim),name='x_input')\n",
    "        self.y = tf.placeholder(dtype=tf.float32,shape=(None),name='y_input')\n",
    "        print(self.X)\n",
    "        print(self.y)\n",
    "        ## define weight matrix and bias vector\n",
    "        w = tf.Variable(tf.zeros(shape=(1)),name='weight')\n",
    "        b = tf.Variable(tf.zeros(shape=(1)),name=\"bias\")\n",
    "        print(w)\n",
    "        print(b)\n",
    "        self.z_net = tf.squeeze(w*self.X + b,name='z_net')\n",
    "        print(self.z_net)\n",
    "        sqr_errors = tf.square(self.y - self.z_net,name='sqr_errors')\n",
    "        print(sqr_errors)\n",
    "        self.mean_cost = tf.reduce_mean(sqr_errors,name='mean_cost')\n",
    "        optimizer = tf.train.GradientDescentOptimizer(learning_rate=self.learning_rate,name='GradientDescent')\n",
    "        self.optimizer = optimizer.minimize(self.mean_cost)"
   ]
  },
  {
   "cell_type": "code",
   "execution_count": 16,
   "id": "cc29c29c",
   "metadata": {},
   "outputs": [
    {
     "name": "stdout",
     "output_type": "stream",
     "text": [
      "Tensor(\"x_input:0\", shape=(?, 1), dtype=float32)\n",
      "Tensor(\"y_input:0\", dtype=float32)\n",
      "<tf.Variable 'weight:0' shape=(1,) dtype=float32_ref>\n",
      "<tf.Variable 'bias:0' shape=(1,) dtype=float32_ref>\n",
      "Tensor(\"z_net:0\", dtype=float32)\n",
      "Tensor(\"sqr_errors:0\", dtype=float32)\n"
     ]
    }
   ],
   "source": [
    "lrmodel = TfLinreg(x_dim=X_train.shape[1], learning_rate=0.01)"
   ]
  },
  {
   "cell_type": "code",
   "execution_count": 17,
   "id": "56b28021",
   "metadata": {},
   "outputs": [],
   "source": [
    "def train_linreg(sess, model, X_train, y_train, num_epochs=10):\n",
    "    ## initialiaze all variables: W and b\n",
    "    sess.run(model.init_op)\n",
    "    training_costs = []\n",
    "    for i in range(num_epochs):\n",
    "        _, cost = sess.run([model.optimizer, model.mean_cost],feed_dict={model.X:X_train,model.y:y_train})\n",
    "        training_costs.append(cost)\n",
    "    return training_costs"
   ]
  },
  {
   "cell_type": "code",
   "execution_count": 18,
   "id": "e75e12d9",
   "metadata": {},
   "outputs": [],
   "source": [
    "sess = tf.Session(graph=lrmodel.g)\n",
    "training_costs = train_linreg(sess, lrmodel, X_train, y_train)"
   ]
  },
  {
   "cell_type": "code",
   "execution_count": 19,
   "id": "45b35691",
   "metadata": {},
   "outputs": [
    {
     "data": {
      "image/png": "[encoded data removed]",
      "text/plain": [
       "<Figure size 432x288 with 1 Axes>"
      ]
     },
     "metadata": {
      "needs_background": "light"
     },
     "output_type": "display_data"
    }
   ],
   "source": [
    "import matplotlib.pyplot as plt\n",
    "plt.plot(range(1,len(training_costs) + 1), training_costs)\n",
    "plt.tight_layout()\n",
    "plt.xlabel('Epoch')\n",
    "plt.ylabel('Training Cost')\n",
    "plt.show()"
   ]
  },
  {
   "cell_type": "code",
   "execution_count": 20,
   "id": "a7289d8d",
   "metadata": {},
   "outputs": [],
   "source": [
    "def predict_linreg(sess, model, X_test):\n",
    "    y_pred = sess.run(model.z_net,feed_dict={model.X:X_test})\n",
    "    return y_pred"
   ]
  },
  {
   "cell_type": "code",
   "execution_count": 22,
   "id": "82225f99",
   "metadata": {},
   "outputs": [
    {
     "data": {
      "image/png": "[encoded data removed]",
      "text/plain": [
       "<Figure size 432x288 with 1 Axes>"
      ]
     },
     "metadata": {
      "needs_background": "light"
     },
     "output_type": "display_data"
    }
   ],
   "source": [
    "plt.scatter(X_train, y_train,marker='s', s=50,label='Training Data')\n",
    "plt.plot(range(X_train.shape[0]),predict_linreg(sess, lrmodel, X_train),color='gray', marker='o',markersize=6, linewidth=3,label='LinReg Model')\n",
    "plt.xlabel('x')\n",
    "plt.ylabel('y')\n",
    "plt.legend()\n",
    "plt.tight_layout()\n",
    "plt.show()"
   ]
  },
  {
   "cell_type": "code",
   "execution_count": 26,
   "id": "30fdf6a7",
   "metadata": {},
   "outputs": [],
   "source": [
    "import os\n",
    "import struct\n",
    "import numpy as np\n",
    "\n",
    "def load_mnist(path, kind='train'):\n",
    "    \"\"\"Load MNIST data from `path`\"\"\"\n",
    "    labels_path = os.path.join(path,'%s-labels.idx1-ubyte' % kind)\n",
    "    images_path = os.path.join(path,'%s-images.idx3-ubyte' % kind)\n",
    "    with open(labels_path, 'rb') as lbpath:\n",
    "        magic, n = struct.unpack('>II',lbpath.read(8))\n",
    "        labels = np.fromfile(lbpath,dtype=np.uint8)\n",
    "    with open(images_path, 'rb') as imgpath:\n",
    "        magic, num, rows, cols = struct.unpack(\">IIII\",imgpath.read(16))\n",
    "        images = np.fromfile(imgpath,dtype=np.uint8).reshape(len(labels), 784)\n",
    "        images = ((images / 255.) - .5) * 2\n",
    "    return images, labels"
   ]
  },
  {
   "cell_type": "code",
   "execution_count": 27,
   "id": "ddf308e1",
   "metadata": {},
   "outputs": [
    {
     "name": "stdout",
     "output_type": "stream",
     "text": [
      "Rows: 60000, Columns: 784\n",
      "Rows: 10000, Columns: 784\n"
     ]
    }
   ],
   "source": [
    " ## loading the data\n",
    "X_train, y_train = load_mnist('./mnist/', kind='train')\n",
    "print('Rows: %d, Columns: %d' %(X_train.shape[0],X_train.shape[1]))\n",
    "X_test, y_test = load_mnist('./mnist/', kind='t10k')\n",
    "print('Rows: %d, Columns: %d' %(X_test.shape[0],X_test.shape[1]))\n",
    "## mean centering and normalization:\n",
    "mean_vals = np.mean(X_train, axis=0)\n",
    "std_val = np.std(X_train)"
   ]
  },
  {
   "cell_type": "code",
   "execution_count": 28,
   "id": "9f869c06",
   "metadata": {},
   "outputs": [],
   "source": [
    "X_train_centered = (X_train - mean_vals)/std_val\n",
    "X_test_centered = (X_test - mean_vals)/std_val"
   ]
  },
  {
   "cell_type": "code",
   "execution_count": 29,
   "id": "7e5c4f82",
   "metadata": {},
   "outputs": [],
   "source": [
    "del X_train, X_test"
   ]
  },
  {
   "cell_type": "code",
   "execution_count": 30,
   "id": "652e4c63",
   "metadata": {},
   "outputs": [
    {
     "name": "stdout",
     "output_type": "stream",
     "text": [
      "(60000, 784) (60000,)\n",
      "(10000, 784) (10000,)\n"
     ]
    }
   ],
   "source": [
    "print(X_train_centered.shape, y_train.shape)\n",
    "print(X_test_centered.shape, y_test.shape)"
   ]
  },
  {
   "cell_type": "code",
   "execution_count": 31,
   "id": "6cc5650a",
   "metadata": {},
   "outputs": [],
   "source": [
    "import tensorflow as tf\n",
    "n_features = X_train_centered.shape[1]\n",
    "n_classes = 10\n",
    "random_seed = 123\n",
    "np.random.seed(random_seed)\n",
    "g = tf.Graph()\n",
    "with g.as_default():\n",
    "    tf.set_random_seed(random_seed)\n",
    "    tf_x = tf.placeholder(dtype=tf.float32,shape=(None, n_features),name='tf_x')\n",
    "    tf_y = tf.placeholder(dtype=tf.int32,shape=None, name='tf_y')\n",
    "    y_onehot = tf.one_hot(indices=tf_y, depth=n_classes)\n",
    "    h1 = tf.layers.dense(inputs=tf_x, units=50,activation=tf.tanh,name='layer1')\n",
    "    h2 = tf.layers.dense(inputs=h1, units=50,activation=tf.tanh,name='layer2')\n",
    "    logits = tf.layers.dense(inputs=h2,units=10,activation=None,name='layer3')\n",
    "    predictions = {\n",
    "    'classes' : tf.argmax(logits, axis=1,\n",
    "    name='predicted_classes'),\n",
    "    'probabilities' : tf.nn.softmax(logits,\n",
    "    name='softmax_tensor')\n",
    "    }"
   ]
  },
  {
   "cell_type": "code",
   "execution_count": 32,
   "id": "6b70bd07",
   "metadata": {},
   "outputs": [],
   "source": [
    "## define cost function and optimizer:\n",
    "with g.as_default():\n",
    "    cost = tf.losses.softmax_cross_entropy(onehot_labels=y_onehot, logits=logits)\n",
    "    optimizer = tf.train.GradientDescentOptimizer(learning_rate=0.001)\n",
    "    train_op = optimizer.minimize(loss=cost)\n",
    "    init_op = tf.global_variables_initializer()"
   ]
  },
  {
   "cell_type": "code",
   "execution_count": 33,
   "id": "6ba1bd09",
   "metadata": {},
   "outputs": [],
   "source": [
    "def create_batch_generator(X, y, batch_size=128, shuffle=False):\n",
    "    X_copy = np.array(X)\n",
    "    y_copy = np.array(y)\n",
    "\n",
    "    if shuffle:\n",
    "        data = np.column_stack((X_copy, y_copy))\n",
    "        np.random.shuffle(data)\n",
    "        X_copy = data[:, :-1]\n",
    "        y_copy = data[:, -1].astype(int)\n",
    "\n",
    "    for i in range(0, X.shape[0], batch_size):\n",
    "        yield (X_copy[i:i+batch_size, :], y_copy[i:i+batch_size])"
   ]
  },
  {
   "cell_type": "code",
   "execution_count": 34,
   "id": "65630776",
   "metadata": {},
   "outputs": [
    {
     "name": "stdout",
     "output_type": "stream",
     "text": [
      " -- Epoch  1 Avg. Training Loss: 1.5573\n",
      " -- Epoch  2 Avg. Training Loss: 0.9492\n",
      " -- Epoch  3 Avg. Training Loss: 0.7499\n",
      " -- Epoch  4 Avg. Training Loss: 0.6387\n",
      " -- Epoch  5 Avg. Training Loss: 0.5668\n",
      " -- Epoch  6 Avg. Training Loss: 0.5160\n",
      " -- Epoch  7 Avg. Training Loss: 0.4781\n",
      " -- Epoch  8 Avg. Training Loss: 0.4486\n",
      " -- Epoch  9 Avg. Training Loss: 0.4247\n",
      " -- Epoch 10 Avg. Training Loss: 0.4051\n",
      " -- Epoch 11 Avg. Training Loss: 0.3884\n",
      " -- Epoch 12 Avg. Training Loss: 0.3741\n",
      " -- Epoch 13 Avg. Training Loss: 0.3617\n",
      " -- Epoch 14 Avg. Training Loss: 0.3507\n",
      " -- Epoch 15 Avg. Training Loss: 0.3408\n",
      " -- Epoch 16 Avg. Training Loss: 0.3320\n",
      " -- Epoch 17 Avg. Training Loss: 0.3239\n",
      " -- Epoch 18 Avg. Training Loss: 0.3165\n",
      " -- Epoch 19 Avg. Training Loss: 0.3097\n",
      " -- Epoch 20 Avg. Training Loss: 0.3035\n",
      " -- Epoch 21 Avg. Training Loss: 0.2976\n",
      " -- Epoch 22 Avg. Training Loss: 0.2921\n",
      " -- Epoch 23 Avg. Training Loss: 0.2870\n",
      " -- Epoch 24 Avg. Training Loss: 0.2822\n",
      " -- Epoch 25 Avg. Training Loss: 0.2776\n",
      " -- Epoch 26 Avg. Training Loss: 0.2733\n",
      " -- Epoch 27 Avg. Training Loss: 0.2693\n",
      " -- Epoch 28 Avg. Training Loss: 0.2654\n",
      " -- Epoch 29 Avg. Training Loss: 0.2617\n",
      " -- Epoch 30 Avg. Training Loss: 0.2581\n",
      " -- Epoch 31 Avg. Training Loss: 0.2547\n",
      " -- Epoch 32 Avg. Training Loss: 0.2515\n",
      " -- Epoch 33 Avg. Training Loss: 0.2483\n",
      " -- Epoch 34 Avg. Training Loss: 0.2453\n",
      " -- Epoch 35 Avg. Training Loss: 0.2425\n",
      " -- Epoch 36 Avg. Training Loss: 0.2397\n",
      " -- Epoch 37 Avg. Training Loss: 0.2370\n",
      " -- Epoch 38 Avg. Training Loss: 0.2344\n",
      " -- Epoch 39 Avg. Training Loss: 0.2319\n",
      " -- Epoch 40 Avg. Training Loss: 0.2294\n",
      " -- Epoch 41 Avg. Training Loss: 0.2271\n",
      " -- Epoch 42 Avg. Training Loss: 0.2248\n",
      " -- Epoch 43 Avg. Training Loss: 0.2226\n",
      " -- Epoch 44 Avg. Training Loss: 0.2204\n",
      " -- Epoch 45 Avg. Training Loss: 0.2183\n",
      " -- Epoch 46 Avg. Training Loss: 0.2163\n",
      " -- Epoch 47 Avg. Training Loss: 0.2143\n",
      " -- Epoch 48 Avg. Training Loss: 0.2124\n",
      " -- Epoch 49 Avg. Training Loss: 0.2105\n",
      " -- Epoch 50 Avg. Training Loss: 0.2086\n"
     ]
    }
   ],
   "source": [
    "## create a session to launch the graph\n",
    "sess = tf.Session(graph=g)\n",
    "## run the variable initialization operator\n",
    "sess.run(init_op)\n",
    "## 50 epochs of training:\n",
    "for epoch in range(50):\n",
    "    training_costs = []\n",
    "    batch_generator = create_batch_generator(X_train_centered, y_train,batch_size=64)\n",
    "    for batch_X, batch_y in batch_generator:\n",
    "    ## prepare a dict to feed data to our network:\n",
    "        feed = {tf_x:batch_X, tf_y:batch_y}\n",
    "        _, batch_cost = sess.run([train_op, cost], feed_dict=feed)\n",
    "        training_costs.append(batch_cost)\n",
    "    print(' -- Epoch %2d Avg. Training Loss: %.4f' % (epoch+1, np.mean(training_costs)))"
   ]
  },
  {
   "cell_type": "code",
   "execution_count": 35,
   "id": "9982006f",
   "metadata": {},
   "outputs": [
    {
     "name": "stdout",
     "output_type": "stream",
     "text": [
      "Test Accuracy: 93.89%\n"
     ]
    }
   ],
   "source": [
    "## do prediction on the test set:\n",
    "feed = {tf_x : X_test_centered}\n",
    "y_pred = sess.run(predictions['classes'],feed_dict=feed)\n",
    "print('Test Accuracy: %.2f%%' % (100*np.sum(y_pred == y_test)/y_test.shape[0]))"
   ]
  },
  {
   "cell_type": "code",
   "execution_count": 36,
   "id": "b294f203",
   "metadata": {},
   "outputs": [
    {
     "name": "stdout",
     "output_type": "stream",
     "text": [
      "Rows: 60000, Columns: 784\n",
      "Rows: 10000, Columns: 784\n",
      "(60000, 784) (60000,)\n",
      "(10000, 784) (10000,)\n"
     ]
    }
   ],
   "source": [
    "X_train, y_train = load_mnist('mnist/', kind='train')\n",
    "print('Rows: %d, Columns: %d' %(X_train.shape[0],X_train.shape[1]))\n",
    "X_test, y_test = load_mnist('mnist/', kind='t10k')\n",
    "print('Rows: %d, Columns: %d' %(X_test.shape[0],X_test.shape[1]))\n",
    "## mean centering and normalization:\n",
    "mean_vals = np.mean(X_train, axis=0)\n",
    "std_val = np.std(X_train)\n",
    "X_train_centered = (X_train - mean_vals)/std_val\n",
    "X_test_centered = (X_test - mean_vals)/std_val\n",
    "del X_train, X_test\n",
    "print(X_train_centered.shape, y_train.shape)\n",
    "print(X_test_centered.shape, y_test.shape)"
   ]
  },
  {
   "cell_type": "code",
   "execution_count": 37,
   "id": "8a7141ce",
   "metadata": {},
   "outputs": [],
   "source": [
    "import tensorflow as tf\n",
    "import tensorflow.contrib.keras as keras\n",
    "np.random.seed(123)\n",
    "tf.set_random_seed(123)"
   ]
  },
  {
   "cell_type": "code",
   "execution_count": 38,
   "id": "49326e9b",
   "metadata": {},
   "outputs": [],
   "source": [
    "# import tensorflow.keras as keras "
   ]
  },
  {
   "cell_type": "code",
   "execution_count": 39,
   "id": "5996a71d",
   "metadata": {},
   "outputs": [
    {
     "name": "stdout",
     "output_type": "stream",
     "text": [
      "First 3 labels:  [5 0 4]\n",
      "\n",
      "First 3 labels (one-hot):\n",
      " [[0. 0. 0. 0. 0. 1. 0. 0. 0. 0.]\n",
      " [1. 0. 0. 0. 0. 0. 0. 0. 0. 0.]\n",
      " [0. 0. 0. 0. 1. 0. 0. 0. 0. 0.]]\n"
     ]
    }
   ],
   "source": [
    "y_train_onehot = keras.utils.to_categorical(y_train)\n",
    "print('First 3 labels: ', y_train[:3])\n",
    "print('\\nFirst 3 labels (one-hot):\\n', y_train_onehot[:3])"
   ]
  },
  {
   "cell_type": "code",
   "execution_count": 40,
   "id": "2f7b05f0",
   "metadata": {},
   "outputs": [],
   "source": [
    "model = keras.models.Sequential()\n",
    "model.add(keras.layers.Dense(units=50,input_dim=X_train_centered.shape[1],kernel_initializer='glorot_uniform',bias_initializer='zeros',activation='tanh'))\n",
    "model.add(keras.layers.Dense(units=50,input_dim=50,kernel_initializer='glorot_uniform',bias_initializer='zeros',activation='tanh'))\n",
    "model.add(keras.layers.Dense(units=y_train_onehot.shape[1],input_dim=50,kernel_initializer='glorot_uniform',bias_initializer='zeros',activation='softmax'))\n",
    "sgd_optimizer = keras.optimizers.SGD(lr=0.001, decay=1e-7, momentum=.9)\n",
    "model.compile(optimizer=sgd_optimizer,loss='categorical_crossentropy')"
   ]
  },
  {
   "cell_type": "code",
   "execution_count": 41,
   "id": "94e212e9",
   "metadata": {},
   "outputs": [
    {
     "name": "stdout",
     "output_type": "stream",
     "text": [
      "Train on 54000 samples, validate on 6000 samples\n",
      "Epoch 1/50\n",
      "54000/54000 [==============================] - 6s - loss: 0.7247 - val_loss: 0.3616\n",
      "Epoch 2/50\n",
      "54000/54000 [==============================] - 2s - loss: 0.3718 - val_loss: 0.2815\n",
      "Epoch 3/50\n",
      "54000/54000 [==============================] - 2s - loss: 0.3087 - val_loss: 0.2447\n",
      "Epoch 4/50\n",
      "54000/54000 [==============================] - 2s - loss: 0.2728 - val_loss: 0.2216\n",
      "Epoch 5/50\n",
      "54000/54000 [==============================] - 2s - loss: 0.2475 - val_loss: 0.2042ss: 0 - ETA: 2s - loss: - ETA: 1s - loss: 0 - ETA: 1s - - ETA: 0s - \n",
      "Epoch 6/50\n",
      "54000/54000 [==============================] - 2s - loss: 0.2277 - val_loss: 0.1918\n",
      "Epoch 7/50\n",
      "54000/54000 [==============================] - 2s - loss: 0.2115 - val_loss: 0.1810\n",
      "Epoch 8/50\n",
      "54000/54000 [==============================] - 2s - loss: 0.1979 - val_loss: 0.1719os\n",
      "Epoch 9/50\n",
      "54000/54000 [==============================] - 2s - loss: 0.1860 - val_loss: 0.1646\n",
      "Epoch 10/50\n",
      "54000/54000 [==============================] - 2s - loss: 0.1758 - val_loss: 0.1591\n",
      "Epoch 11/50\n",
      "54000/54000 [==============================] - 2s - loss: 0.1667 - val_loss: 0.1543\n",
      "Epoch 12/50\n",
      "54000/54000 [==============================] - 2s - loss: 0.1589 - val_loss: 0.1491\n",
      "Epoch 13/50\n",
      "54000/54000 [==============================] - 2s - loss: 0.1516 - val_loss: 0.1451\n",
      "Epoch 14/50\n",
      "54000/54000 [==============================] - 2s - loss: 0.1450 - val_loss: 0.1420ss:\n",
      "Epoch 15/50\n",
      "54000/54000 [==============================] - 2s - loss: 0.1389 - val_loss: 0.1386\n",
      "Epoch 16/50\n",
      "54000/54000 [==============================] - 2s - loss: 0.1333 - val_loss: 0.1363\n",
      "Epoch 17/50\n",
      "54000/54000 [==============================] - 2s - loss: 0.1283 - val_loss: 0.1331\n",
      "Epoch 18/50\n",
      "54000/54000 [==============================] - 2s - loss: 0.1234 - val_loss: 0.1327\n",
      "Epoch 19/50\n",
      "54000/54000 [==============================] - 3s - loss: 0.1191 - val_loss: 0.1293ss\n",
      "Epoch 20/50\n",
      "54000/54000 [==============================] - 3s - loss: 0.1148 - val_loss: 0.1282\n",
      "Epoch 21/50\n",
      "54000/54000 [==============================] - 2s - loss: 0.1109 - val_loss: 0.1270\n",
      "Epoch 22/50\n",
      "54000/54000 [==============================] - 2s - loss: 0.1071 - val_loss: 0.1265\n",
      "Epoch 23/50\n",
      "54000/54000 [==============================] - 2s - loss: 0.1037 - val_loss: 0.1243\n",
      "Epoch 24/50\n",
      "54000/54000 [==============================] - 2s - loss: 0.1003 - val_loss: 0.1229 ETA: 0s - loss: 0.1 - ETA: 0s - loss: 0.10\n",
      "Epoch 25/50\n",
      "54000/54000 [==============================] - 3s - loss: 0.0971 - val_loss: 0.1216\n",
      "Epoch 26/50\n",
      "54000/54000 [==============================] - 2s - loss: 0.0941 - val_loss: 0.1212\n",
      "Epoch 27/50\n",
      "54000/54000 [==============================] - 2s - loss: 0.0912 - val_loss: 0.1200\n",
      "Epoch 28/50\n",
      "54000/54000 [==============================] - 2s - loss: 0.0884 - val_loss: 0.1202\n",
      "Epoch 29/50\n",
      "54000/54000 [==============================] - 2s - loss: 0.0858 - val_loss: 0.1189\n",
      "Epoch 30/50\n",
      "54000/54000 [==============================] - 2s - loss: 0.0834 - val_loss: 0.1184\n",
      "Epoch 31/50\n",
      "54000/54000 [==============================] - 2s - loss: 0.0810 - val_loss: 0.1184\n",
      "Epoch 32/50\n",
      "54000/54000 [==============================] - 2s - loss: 0.0787 - val_loss: 0.1189\n",
      "Epoch 33/50\n",
      "54000/54000 [==============================] - 2s - loss: 0.0765 - val_loss: 0.1183\n",
      "Epoch 34/50\n",
      "54000/54000 [==============================] - 2s - loss: 0.0743 - val_loss: 0.1196TA: 0s - loss:\n",
      "Epoch 35/50\n",
      "54000/54000 [==============================] - 3s - loss: 0.0723 - val_loss: 0.1179\n",
      "Epoch 36/50\n",
      "54000/54000 [==============================] - 2s - loss: 0.0703 - val_loss: 0.1174\n",
      "Epoch 37/50\n",
      "54000/54000 [==============================] - 2s - loss: 0.0684 - val_loss: 0.1184\n",
      "Epoch 38/50\n",
      "54000/54000 [==============================] - 2s - loss: 0.0665 - val_loss: 0.1187\n",
      "Epoch 39/50\n",
      "54000/54000 [==============================] - 2s - loss: 0.0647 - val_loss: 0.1171ss: 0.06 - ETA: 0s - loss: 0 - ETA: 0s - loss\n",
      "Epoch 40/50\n",
      "54000/54000 [==============================] - 2s - loss: 0.0629 - val_loss: 0.1172s\n",
      "Epoch 41/50\n",
      "54000/54000 [==============================] - 2s - loss: 0.0613 - val_loss: 0.1175\n",
      "Epoch 42/50\n",
      "54000/54000 [==============================] - 2s - loss: 0.0597 - val_loss: 0.1170\n",
      "Epoch 43/50\n",
      "54000/54000 [==============================] - 2s - loss: 0.0581 - val_loss: 0.1168\n",
      "Epoch 44/50\n",
      "54000/54000 [==============================] - 3s - loss: 0.0566 - val_loss: 0.1166ss: 0.0 - ETA: 1s - loss:  - ETA: 1s - loss: 0.05 - ETA: 1s - loss - ETA: 0s - loss: 0.05 - ETA: 0s - loss\n",
      "Epoch 45/50\n",
      "54000/54000 [==============================] - 2s - loss: 0.0552 - val_loss: 0.1166\n",
      "Epoch 46/50\n",
      "54000/54000 [==============================] - 2s - loss: 0.0537 - val_loss: 0.1162\n",
      "Epoch 47/50\n",
      "54000/54000 [==============================] - 2s - loss: 0.0523 - val_loss: 0.1170\n",
      "Epoch 48/50\n",
      "54000/54000 [==============================] - ETA: 0s - loss: 0.051 - 2s - loss: 0.0510 - val_loss: 0.1172\n",
      "Epoch 49/50\n",
      "54000/54000 [==============================] - 2s - loss: 0.0498 - val_loss: 0.1171ss: 0.049\n",
      "Epoch 50/50\n",
      "54000/54000 [==============================] - 2s - loss: 0.0485 - val_loss: 0.1174\n"
     ]
    }
   ],
   "source": [
    "history = model.fit(X_train_centered, y_train_onehot,batch_size=64, epochs=50,verbose=1,validation_split=0.1)"
   ]
  },
  {
   "cell_type": "code",
   "execution_count": 42,
   "id": "a4421a50",
   "metadata": {},
   "outputs": [
    {
     "name": "stdout",
     "output_type": "stream",
     "text": [
      "First 3 predictions:  [5 0 4]\n"
     ]
    }
   ],
   "source": [
    "y_train_pred = model.predict_classes(X_train_centered, verbose=0)\n",
    "print('First 3 predictions: ', y_train_pred[:3])"
   ]
  },
  {
   "cell_type": "code",
   "execution_count": 43,
   "id": "e24e8fb3",
   "metadata": {},
   "outputs": [
    {
     "name": "stdout",
     "output_type": "stream",
     "text": [
      "First 3 predictions:  [5 0 4]\n",
      "Training accuracy: 98.88%\n",
      "Test accuracy: 96.04%\n"
     ]
    }
   ],
   "source": [
    "y_train_pred = model.predict_classes(X_train_centered,verbose=0)\n",
    "correct_preds = np.sum(y_train == y_train_pred, axis=0)\n",
    "train_acc = correct_preds / y_train.shape[0]\n",
    "print('First 3 predictions: ', y_train_pred[:3])\n",
    "print('Training accuracy: %.2f%%' % (train_acc * 100))\n",
    "y_test_pred = model.predict_classes(X_test_centered,verbose=0)\n",
    "correct_preds = np.sum(y_test == y_test_pred, axis=0)\n",
    "test_acc = correct_preds / y_test.shape[0]\n",
    "print('Test accuracy: %.2f%%' % (test_acc * 100))"
   ]
  },
  {
   "cell_type": "code",
   "execution_count": 44,
   "id": "8491a26d",
   "metadata": {},
   "outputs": [
    {
     "name": "stdout",
     "output_type": "stream",
     "text": [
      "P(y=1|x) = 0.888\n"
     ]
    }
   ],
   "source": [
    "import numpy as np\n",
    "X = np.array([1, 1.4, 2.5]) ## first value must be 1\n",
    "w = np.array([0.4, 0.3, 0.5])\n",
    "def net_input(X, w):\n",
    "    return np.dot(X, w)\n",
    "def logistic(z):\n",
    "    return 1.0 / (1.0 + np.exp(-z))\n",
    "def logistic_activation(X, w):\n",
    "    z = net_input(X, w)\n",
    "    return logistic(z)\n",
    "print('P(y=1|x) = %.3f' % logistic_activation(X, w))"
   ]
  },
  {
   "cell_type": "code",
   "execution_count": 45,
   "id": "deda2e27",
   "metadata": {},
   "outputs": [],
   "source": [
    "W = np.array([[1.1, 1.2, 0.8, 0.4],[0.2, 0.4, 1.0, 0.2],[0.6, 1.5, 1.2, 0.7]])\n",
    "A = np.array([[1, 0.1, 0.4, 0.6]])"
   ]
  },
  {
   "cell_type": "code",
   "execution_count": 46,
   "id": "cab691f1",
   "metadata": {},
   "outputs": [
    {
     "name": "stdout",
     "output_type": "stream",
     "text": [
      "Net Input: \n",
      " [1.78 0.76 1.65]\n",
      "Output Units:\n",
      " [0.85569687 0.68135373 0.83889105]\n"
     ]
    }
   ],
   "source": [
    "Z = np.dot(W, A[0])\n",
    "y_probas = logistic(Z)\n",
    "print('Net Input: \\n', Z)\n",
    "print('Output Units:\\n', y_probas)"
   ]
  },
  {
   "cell_type": "code",
   "execution_count": 47,
   "id": "360a8419",
   "metadata": {},
   "outputs": [
    {
     "name": "stdout",
     "output_type": "stream",
     "text": [
      "Predicted class label: 0\n"
     ]
    }
   ],
   "source": [
    "y_class = np.argmax(Z, axis=0)\n",
    "print('Predicted class label: %d' % y_class)"
   ]
  },
  {
   "cell_type": "code",
   "execution_count": 48,
   "id": "26b2dd5d",
   "metadata": {},
   "outputs": [
    {
     "name": "stdout",
     "output_type": "stream",
     "text": [
      "Probabilities:\n",
      " [0.44668973 0.16107406 0.39223621]\n"
     ]
    },
    {
     "data": {
      "text/plain": [
       "1.0"
      ]
     },
     "execution_count": 48,
     "metadata": {},
     "output_type": "execute_result"
    }
   ],
   "source": [
    "def softmax(z):\n",
    "    return np.exp(z) / np.sum(np.exp(z))\n",
    "y_probas = softmax(Z)\n",
    "print('Probabilities:\\n', y_probas)\n",
    "np.sum(y_probas)"
   ]
  },
  {
   "cell_type": "code",
   "execution_count": 49,
   "id": "759ea568",
   "metadata": {},
   "outputs": [
    {
     "data": {
      "image/png": "[encoded data removed]",
      "text/plain": [
       "<Figure size 432x288 with 1 Axes>"
      ]
     },
     "metadata": {
      "needs_background": "light"
     },
     "output_type": "display_data"
    }
   ],
   "source": [
    "import matplotlib.pyplot as plt\n",
    "def tanh(z):\n",
    "    e_p = np.exp(z)\n",
    "    e_m = np.exp(-z)\n",
    "    return (e_p - e_m) / (e_p + e_m)\n",
    "z = np.arange(-5, 5, 0.005)\n",
    "log_act = logistic(z)\n",
    "tanh_act = tanh(z)\n",
    "plt.ylim([-1.5, 1.5])\n",
    "plt.xlabel('net input $z$')\n",
    "plt.ylabel('activation $\\phi(z)$')\n",
    "plt.axhline(1, color='black', linestyle=':')\n",
    "plt.axhline(0.5, color='black', linestyle=':')\n",
    "plt.axhline(0, color='black', linestyle=':')\n",
    "plt.axhline(-0.5, color='black', linestyle=':')\n",
    "plt.axhline(-1, color='black', linestyle=':')\n",
    "plt.plot(z, tanh_act,linewidth=3, linestyle='--',label='tanh')\n",
    "plt.plot(z, log_act,linewidth=3,label='logistic')\n",
    "plt.legend(loc='lower right')\n",
    "plt.tight_layout()\n",
    "plt.show()"
   ]
  },
  {
   "cell_type": "code",
   "execution_count": 50,
   "id": "bb7b746e",
   "metadata": {},
   "outputs": [],
   "source": [
    "tanh_act = np.tanh(z)"
   ]
  },
  {
   "cell_type": "code",
   "execution_count": 51,
   "id": "3a5eaabd",
   "metadata": {},
   "outputs": [
    {
     "data": {
      "text/plain": [
       "array([-0.9999092 , -0.99990829, -0.99990737, ...,  0.99990644,\n",
       "        0.99990737,  0.99990829])"
      ]
     },
     "execution_count": 51,
     "metadata": {},
     "output_type": "execute_result"
    }
   ],
   "source": [
    "tanh_act"
   ]
  },
  {
   "cell_type": "code",
   "execution_count": 52,
   "id": "fa2b20bc",
   "metadata": {},
   "outputs": [],
   "source": [
    "from scipy.special import expit\n",
    "log_act = expit(z)"
   ]
  },
  {
   "cell_type": "code",
   "execution_count": 53,
   "id": "3c5f2523",
   "metadata": {},
   "outputs": [
    {
     "data": {
      "text/plain": [
       "array([0.00669285, 0.00672617, 0.00675966, ..., 0.99320669, 0.99324034,\n",
       "       0.99327383])"
      ]
     },
     "execution_count": 53,
     "metadata": {},
     "output_type": "execute_result"
    }
   ],
   "source": [
    "log_act"
   ]
  },
  {
   "cell_type": "code",
   "execution_count": null,
   "id": "c6c1b7d2",
   "metadata": {},
   "outputs": [],
   "source": []
  }
 ],
 "metadata": {
  "kernelspec": {
   "display_name": "Python 3 (ipykernel)",
   "language": "python",
   "name": "python3"
  },
  "language_info": {
   "codemirror_mode": {
    "name": "ipython",
    "version": 3
   },
   "file_extension": ".py",
   "mimetype": "text/x-python",
   "name": "python",
   "nbconvert_exporter": "python",
   "pygments_lexer": "ipython3",
   "version": "3.6.13"
  }
 },
 "nbformat": 4,
 "nbformat_minor": 5
}
